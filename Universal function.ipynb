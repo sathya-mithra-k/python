{
 "cells": [
  {
   "cell_type": "markdown",
   "id": "2d012f34",
   "metadata": {},
   "source": [
    "# universal functions"
   ]
  },
  {
   "cell_type": "code",
   "execution_count": 6,
   "id": "9a908d94",
   "metadata": {},
   "outputs": [],
   "source": [
    "#universal functions are simple mathematics function\n",
    "#universal functions are objects those belongs to numpy.ufunc class.\n",
    "#ufuncs are used to implement vectorization in NumPy which is way faster than iterating over elements\n",
    "#Converting iterative statements into a vector based operation is called vectorization.\n",
    "#Vectorization is used to speed up the Python code without using loop"
   ]
  },
  {
   "cell_type": "code",
   "execution_count": 1,
   "id": "6663cdc6",
   "metadata": {},
   "outputs": [],
   "source": [
    "import time"
   ]
  },
  {
   "cell_type": "code",
   "execution_count": 31,
   "id": "6699cb23",
   "metadata": {},
   "outputs": [
    {
     "name": "stdout",
     "output_type": "stream",
     "text": [
      "[6, 8, 10]\n"
     ]
    }
   ],
   "source": [
    "a = [1, 2, 3]\n",
    "b = [5, 6, 7]\n",
    "z=[]\n",
    "for i,j in zip(a,b):\n",
    "    z.append(i+j)\n",
    "    \n",
    "print(z)"
   ]
  },
  {
   "cell_type": "code",
   "execution_count": 12,
   "id": "876e8723",
   "metadata": {},
   "outputs": [],
   "source": [
    "import numpy as np"
   ]
  },
  {
   "cell_type": "markdown",
   "id": "70b91ee4",
   "metadata": {},
   "source": [
    "# simple arithmetics"
   ]
  },
  {
   "cell_type": "code",
   "execution_count": 18,
   "id": "fcef2b7f",
   "metadata": {},
   "outputs": [],
   "source": [
    "a = np.random.randint(9, size=5)"
   ]
  },
  {
   "cell_type": "code",
   "execution_count": 19,
   "id": "3ece279b",
   "metadata": {},
   "outputs": [
    {
     "data": {
      "text/plain": [
       "array([2, 2, 2, 3, 5])"
      ]
     },
     "execution_count": 19,
     "metadata": {},
     "output_type": "execute_result"
    }
   ],
   "source": [
    "a"
   ]
  },
  {
   "cell_type": "code",
   "execution_count": 20,
   "id": "b601189f",
   "metadata": {},
   "outputs": [],
   "source": [
    "b = np.random.randint(9, size = 5)"
   ]
  },
  {
   "cell_type": "code",
   "execution_count": 21,
   "id": "d1f01f74",
   "metadata": {},
   "outputs": [
    {
     "data": {
      "text/plain": [
       "array([2, 4, 3, 0, 3])"
      ]
     },
     "execution_count": 21,
     "metadata": {},
     "output_type": "execute_result"
    }
   ],
   "source": [
    "b"
   ]
  },
  {
   "cell_type": "code",
   "execution_count": 29,
   "id": "6282bb62",
   "metadata": {},
   "outputs": [],
   "source": [
    "import time"
   ]
  },
  {
   "cell_type": "code",
   "execution_count": 30,
   "id": "64cc1929",
   "metadata": {},
   "outputs": [
    {
     "name": "stdout",
     "output_type": "stream",
     "text": [
      "[4 6 5 3 8]\n",
      "0.0\n"
     ]
    }
   ],
   "source": [
    "start = time.time()\n",
    "addt = np.add(a,b)\n",
    "print(addt)\n",
    "end = time.time()\n",
    "print(end - start)"
   ]
  },
  {
   "cell_type": "code",
   "execution_count": 16,
   "id": "9831a0ba",
   "metadata": {},
   "outputs": [],
   "source": [
    "b =  np.random.randint(9, size = 5)"
   ]
  },
  {
   "cell_type": "code",
   "execution_count": 9,
   "id": "a9fa72e9",
   "metadata": {},
   "outputs": [
    {
     "data": {
      "text/plain": [
       "array([5, 1, 5, 7, 5])"
      ]
     },
     "execution_count": 9,
     "metadata": {},
     "output_type": "execute_result"
    }
   ],
   "source": [
    "b"
   ]
  },
  {
   "cell_type": "code",
   "execution_count": 7,
   "id": "f5ae6c12",
   "metadata": {},
   "outputs": [],
   "source": [
    "a = [5, 8, 2, 8, 5]\n",
    "b = [5, 1, 5, 7, 5]\n",
    "c = [6, 7, 8, 1, 2]"
   ]
  },
  {
   "cell_type": "markdown",
   "id": "116220e5",
   "metadata": {},
   "source": [
    "# 1.addittion"
   ]
  },
  {
   "cell_type": "code",
   "execution_count": 11,
   "id": "9b5c3c08",
   "metadata": {},
   "outputs": [
    {
     "ename": "NameError",
     "evalue": "name 'np' is not defined",
     "output_type": "error",
     "traceback": [
      "\u001b[1;31m---------------------------------------------------------------------------\u001b[0m",
      "\u001b[1;31mNameError\u001b[0m                                 Traceback (most recent call last)",
      "\u001b[1;32m~\\AppData\\Local\\Temp\\ipykernel_18328\\3160542027.py\u001b[0m in \u001b[0;36m<module>\u001b[1;34m\u001b[0m\n\u001b[1;32m----> 1\u001b[1;33m \u001b[0maddt\u001b[0m \u001b[1;33m=\u001b[0m \u001b[0mnp\u001b[0m\u001b[1;33m.\u001b[0m\u001b[0madd\u001b[0m\u001b[1;33m(\u001b[0m\u001b[0ma\u001b[0m\u001b[1;33m,\u001b[0m\u001b[0mb\u001b[0m\u001b[1;33m,\u001b[0m\u001b[1;33m)\u001b[0m\u001b[1;33m\u001b[0m\u001b[1;33m\u001b[0m\u001b[0m\n\u001b[0m",
      "\u001b[1;31mNameError\u001b[0m: name 'np' is not defined"
     ]
    }
   ],
   "source": [
    "addt = np.add(a,b,)"
   ]
  },
  {
   "cell_type": "code",
   "execution_count": 11,
   "id": "f3fab691",
   "metadata": {},
   "outputs": [
    {
     "data": {
      "text/plain": [
       "array([10,  9,  7, 15, 10])"
      ]
     },
     "execution_count": 11,
     "metadata": {},
     "output_type": "execute_result"
    }
   ],
   "source": [
    "addt"
   ]
  },
  {
   "cell_type": "markdown",
   "id": "d6c5e592",
   "metadata": {},
   "source": [
    "# 2.subraction "
   ]
  },
  {
   "cell_type": "code",
   "execution_count": 14,
   "id": "0d67781b",
   "metadata": {},
   "outputs": [
    {
     "data": {
      "text/plain": [
       "array([ 0,  7, -3,  1,  0])"
      ]
     },
     "execution_count": 14,
     "metadata": {},
     "output_type": "execute_result"
    }
   ],
   "source": [
    "subt = np.subtract(a,b)\n",
    "subt"
   ]
  },
  {
   "cell_type": "markdown",
   "id": "18772637",
   "metadata": {},
   "source": [
    "# 3.multiplication"
   ]
  },
  {
   "cell_type": "code",
   "execution_count": 15,
   "id": "0b87aec0",
   "metadata": {},
   "outputs": [
    {
     "data": {
      "text/plain": [
       "array([25,  8, 10, 56, 25])"
      ]
     },
     "execution_count": 15,
     "metadata": {},
     "output_type": "execute_result"
    }
   ],
   "source": [
    "mult = np.multiply(a,b)\n",
    "mult"
   ]
  },
  {
   "cell_type": "markdown",
   "id": "04d47cb0",
   "metadata": {},
   "source": [
    "# 4.division"
   ]
  },
  {
   "cell_type": "code",
   "execution_count": 17,
   "id": "1cd6ad42",
   "metadata": {},
   "outputs": [
    {
     "data": {
      "text/plain": [
       "array([1.        , 8.        , 0.4       , 1.14285714, 1.        ])"
      ]
     },
     "execution_count": 17,
     "metadata": {},
     "output_type": "execute_result"
    }
   ],
   "source": [
    "div = np.divide(a,b)\n",
    "div"
   ]
  },
  {
   "cell_type": "markdown",
   "id": "60bfc74b",
   "metadata": {},
   "source": [
    "# 5.power"
   ]
  },
  {
   "cell_type": "code",
   "execution_count": 18,
   "id": "d178549f",
   "metadata": {},
   "outputs": [
    {
     "data": {
      "text/plain": [
       "array([   3125,       8,      32, 2097152,    3125], dtype=int32)"
      ]
     },
     "execution_count": 18,
     "metadata": {},
     "output_type": "execute_result"
    }
   ],
   "source": [
    "por = np.power(a,b)\n",
    "por"
   ]
  },
  {
   "cell_type": "markdown",
   "id": "c23a6d48",
   "metadata": {},
   "source": [
    "# 6.absolute value"
   ]
  },
  {
   "cell_type": "code",
   "execution_count": 19,
   "id": "f0c60784",
   "metadata": {},
   "outputs": [
    {
     "data": {
      "text/plain": [
       "array([1, 2, 0, 9])"
      ]
     },
     "execution_count": 19,
     "metadata": {},
     "output_type": "execute_result"
    }
   ],
   "source": [
    "arr1 = [1, -2, 0, -9]\n",
    "newarr = np.absolute(arr1)\n",
    "newarr"
   ]
  },
  {
   "cell_type": "markdown",
   "id": "abab0b02",
   "metadata": {},
   "source": [
    "# truncation"
   ]
  },
  {
   "cell_type": "code",
   "execution_count": 21,
   "id": "7101ad25",
   "metadata": {},
   "outputs": [
    {
     "data": {
      "text/plain": [
       "array([-0.,  3.])"
      ]
     },
     "execution_count": 21,
     "metadata": {},
     "output_type": "execute_result"
    }
   ],
   "source": [
    "arry = [-0.346849, 3.5769]\n",
    "trun = np.trunc(arry)\n",
    "trun"
   ]
  },
  {
   "cell_type": "code",
   "execution_count": 22,
   "id": "9c14d334",
   "metadata": {},
   "outputs": [
    {
     "data": {
      "text/plain": [
       "array([-0.,  3.])"
      ]
     },
     "execution_count": 22,
     "metadata": {},
     "output_type": "execute_result"
    }
   ],
   "source": [
    "fic = np.fix(arry)\n",
    "fic"
   ]
  },
  {
   "cell_type": "markdown",
   "id": "79f2c0f3",
   "metadata": {},
   "source": [
    "# rounding"
   ]
  },
  {
   "cell_type": "code",
   "execution_count": 24,
   "id": "b80cb95c",
   "metadata": {},
   "outputs": [
    {
     "data": {
      "text/plain": [
       "array([-0.,  4.])"
      ]
     },
     "execution_count": 24,
     "metadata": {},
     "output_type": "execute_result"
    }
   ],
   "source": [
    "ron = np.around(arry)\n",
    "ron"
   ]
  },
  {
   "cell_type": "markdown",
   "id": "fe93a976",
   "metadata": {},
   "source": [
    "# Summation"
   ]
  },
  {
   "cell_type": "code",
   "execution_count": 40,
   "id": "b19ea150",
   "metadata": {},
   "outputs": [],
   "source": [
    "ar = np.random.randint(9, size = 3)"
   ]
  },
  {
   "cell_type": "code",
   "execution_count": 30,
   "id": "f02b8717",
   "metadata": {},
   "outputs": [
    {
     "data": {
      "text/plain": [
       "array([7, 2, 5])"
      ]
     },
     "execution_count": 30,
     "metadata": {},
     "output_type": "execute_result"
    }
   ],
   "source": [
    "ar"
   ]
  },
  {
   "cell_type": "code",
   "execution_count": 39,
   "id": "9e33e678",
   "metadata": {},
   "outputs": [
    {
     "data": {
      "text/plain": [
       "14"
      ]
     },
     "execution_count": 39,
     "metadata": {},
     "output_type": "execute_result"
    }
   ],
   "source": [
    "s = np.sum(ar)\n",
    "s"
   ]
  },
  {
   "cell_type": "code",
   "execution_count": 34,
   "id": "ab01f92c",
   "metadata": {},
   "outputs": [
    {
     "data": {
      "text/plain": [
       "array([ 7,  9, 14], dtype=int32)"
      ]
     },
     "execution_count": 34,
     "metadata": {},
     "output_type": "execute_result"
    }
   ],
   "source": [
    "# cummulative sum - partially adding the elements in array.\n",
    "cs = np.cumsum(ar)\n",
    "cs"
   ]
  },
  {
   "cell_type": "code",
   "execution_count": 45,
   "id": "69e8855f",
   "metadata": {},
   "outputs": [
    {
     "data": {
      "text/plain": [
       "array([5, 8, 5])"
      ]
     },
     "execution_count": 45,
     "metadata": {},
     "output_type": "execute_result"
    }
   ],
   "source": [
    "ar1 = np.random.randint(9, size = 3)\n",
    "ar1"
   ]
  },
  {
   "cell_type": "code",
   "execution_count": 47,
   "id": "99b375b2",
   "metadata": {},
   "outputs": [
    {
     "data": {
      "text/plain": [
       "array([18,  3])"
      ]
     },
     "execution_count": 47,
     "metadata": {},
     "output_type": "execute_result"
    }
   ],
   "source": [
    "#axis sum\n",
    "newarr = np.sum([ar1, ar], axis=1)\n",
    "newarr"
   ]
  },
  {
   "cell_type": "markdown",
   "id": "3c5195d5",
   "metadata": {},
   "source": [
    "# Set Operations"
   ]
  },
  {
   "cell_type": "markdown",
   "id": "657869a3",
   "metadata": {},
   "source": [
    "# 1.unique"
   ]
  },
  {
   "cell_type": "code",
   "execution_count": 49,
   "id": "4c9c518b",
   "metadata": {},
   "outputs": [],
   "source": [
    "arr1 =[1, 1, 1, 2, 2, 4, 4, 7, 7, 7, 7, 8]"
   ]
  },
  {
   "cell_type": "code",
   "execution_count": 50,
   "id": "856915e8",
   "metadata": {},
   "outputs": [],
   "source": [
    "new = np.unique(arr1)"
   ]
  },
  {
   "cell_type": "code",
   "execution_count": 51,
   "id": "8bf9dafa",
   "metadata": {},
   "outputs": [
    {
     "data": {
      "text/plain": [
       "array([1, 2, 4, 7, 8])"
      ]
     },
     "execution_count": 51,
     "metadata": {},
     "output_type": "execute_result"
    }
   ],
   "source": [
    "new"
   ]
  },
  {
   "cell_type": "markdown",
   "id": "be266e75",
   "metadata": {},
   "source": [
    "# 2.union"
   ]
  },
  {
   "cell_type": "code",
   "execution_count": 56,
   "id": "3ea0618b",
   "metadata": {},
   "outputs": [],
   "source": [
    "arr1 = np.array([1, 2, 3, 4])\n",
    "arr2 = np.array([3, 4, 5, 6])"
   ]
  },
  {
   "cell_type": "code",
   "execution_count": 57,
   "id": "8753a7c3",
   "metadata": {},
   "outputs": [
    {
     "data": {
      "text/plain": [
       "array([1, 2, 3, 4, 5, 6])"
      ]
     },
     "execution_count": 57,
     "metadata": {},
     "output_type": "execute_result"
    }
   ],
   "source": [
    "ar = np.union1d(arr1, arr2)\n",
    "ar"
   ]
  },
  {
   "cell_type": "markdown",
   "id": "c9aa9c43",
   "metadata": {},
   "source": [
    "# 3.intersection"
   ]
  },
  {
   "cell_type": "code",
   "execution_count": 61,
   "id": "c255f9fc",
   "metadata": {},
   "outputs": [
    {
     "data": {
      "text/plain": [
       "array([3, 4])"
      ]
     },
     "execution_count": 61,
     "metadata": {},
     "output_type": "execute_result"
    }
   ],
   "source": [
    "n = np.intersect1d(arr1, arr2)\n",
    "n"
   ]
  },
  {
   "cell_type": "markdown",
   "id": "86cf7142",
   "metadata": {},
   "source": [
    "# 4.difference"
   ]
  },
  {
   "cell_type": "code",
   "execution_count": null,
   "id": "8f49aed1",
   "metadata": {},
   "outputs": [],
   "source": [
    "#find only the values in the first set that is NOT present in the seconds set"
   ]
  },
  {
   "cell_type": "code",
   "execution_count": 62,
   "id": "c3c14ed4",
   "metadata": {},
   "outputs": [
    {
     "data": {
      "text/plain": [
       "array([1, 2])"
      ]
     },
     "execution_count": 62,
     "metadata": {},
     "output_type": "execute_result"
    }
   ],
   "source": [
    "dif = np.setdiff1d(arr1,arr2)\n",
    "dif"
   ]
  },
  {
   "cell_type": "markdown",
   "id": "11e361fa",
   "metadata": {},
   "source": [
    "# 5.symmetric diference"
   ]
  },
  {
   "cell_type": "code",
   "execution_count": 67,
   "id": "49750674",
   "metadata": {},
   "outputs": [
    {
     "data": {
      "text/plain": [
       "array([1, 2, 5, 6])"
      ]
     },
     "execution_count": 67,
     "metadata": {},
     "output_type": "execute_result"
    }
   ],
   "source": [
    "ar =  np.setxor1d(arr1, arr2, assume_unique=True)\n",
    "ar"
   ]
  },
  {
   "cell_type": "markdown",
   "id": "205812aa",
   "metadata": {},
   "source": [
    "# trignometric function"
   ]
  },
  {
   "cell_type": "code",
   "execution_count": 75,
   "id": "07f6d31d",
   "metadata": {},
   "outputs": [
    {
     "data": {
      "text/plain": [
       "array([1.57079633, 3.14159265, 4.71238898, 6.28318531])"
      ]
     },
     "execution_count": 75,
     "metadata": {},
     "output_type": "execute_result"
    }
   ],
   "source": [
    "arr = np.array([90, 180, 270, 360])\n",
    "a = np.deg2rad(arr)\n",
    "a"
   ]
  },
  {
   "cell_type": "code",
   "execution_count": 76,
   "id": "fcc82a6b",
   "metadata": {},
   "outputs": [
    {
     "data": {
      "text/plain": [
       "array([ 1.0000000e+00,  1.2246468e-16, -1.0000000e+00, -2.4492936e-16])"
      ]
     },
     "execution_count": 76,
     "metadata": {},
     "output_type": "execute_result"
    }
   ],
   "source": [
    "x = np.sin(a)\n",
    "x"
   ]
  },
  {
   "cell_type": "code",
   "execution_count": 77,
   "id": "535a370b",
   "metadata": {},
   "outputs": [
    {
     "data": {
      "text/plain": [
       "1.0"
      ]
     },
     "execution_count": 77,
     "metadata": {},
     "output_type": "execute_result"
    }
   ],
   "source": [
    "x = np.sin(np.pi/2)\n",
    "x"
   ]
  },
  {
   "cell_type": "markdown",
   "id": "83bdd646",
   "metadata": {},
   "source": [
    "# hypotenues"
   ]
  },
  {
   "cell_type": "code",
   "execution_count": 79,
   "id": "5b3a5a25",
   "metadata": {},
   "outputs": [
    {
     "data": {
      "text/plain": [
       "18.027756377319946"
      ]
     },
     "execution_count": 79,
     "metadata": {},
     "output_type": "execute_result"
    }
   ],
   "source": [
    "base = 10\n",
    "prep = 15\n",
    "hyp = np.hypot(base,prep)\n",
    "hyp"
   ]
  },
  {
   "cell_type": "code",
   "execution_count": 80,
   "id": "2a3a7e4f",
   "metadata": {},
   "outputs": [],
   "source": [
    "#hyperbolic function"
   ]
  },
  {
   "cell_type": "markdown",
   "id": "91512f71",
   "metadata": {},
   "source": [
    "# statistical function"
   ]
  },
  {
   "cell_type": "code",
   "execution_count": 83,
   "id": "8263cd0e",
   "metadata": {},
   "outputs": [],
   "source": [
    "height = [150, 168.9, 170, 191, 185.7, 177.5]"
   ]
  },
  {
   "cell_type": "code",
   "execution_count": 85,
   "id": "cc7acc57",
   "metadata": {},
   "outputs": [
    {
     "data": {
      "text/plain": [
       "150.0"
      ]
     },
     "execution_count": 85,
     "metadata": {},
     "output_type": "execute_result"
    }
   ],
   "source": [
    "Min = np.min(height)\n",
    "Min"
   ]
  },
  {
   "cell_type": "code",
   "execution_count": 86,
   "id": "1fe61480",
   "metadata": {},
   "outputs": [
    {
     "data": {
      "text/plain": [
       "191.0"
      ]
     },
     "execution_count": 86,
     "metadata": {},
     "output_type": "execute_result"
    }
   ],
   "source": [
    "Max = np.max(height)\n",
    "Max"
   ]
  },
  {
   "cell_type": "code",
   "execution_count": 88,
   "id": "12c0539c",
   "metadata": {},
   "outputs": [
    {
     "data": {
      "text/plain": [
       "185.7"
      ]
     },
     "execution_count": 88,
     "metadata": {},
     "output_type": "execute_result"
    }
   ],
   "source": [
    "#percentile\n",
    "y = np.percentile(height, 80)\n",
    "y"
   ]
  },
  {
   "cell_type": "code",
   "execution_count": 90,
   "id": "67666770",
   "metadata": {},
   "outputs": [
    {
     "data": {
      "text/plain": [
       "173.85"
      ]
     },
     "execution_count": 90,
     "metadata": {},
     "output_type": "execute_result"
    }
   ],
   "source": [
    "x = np.mean(height)\n",
    "x"
   ]
  },
  {
   "cell_type": "code",
   "execution_count": 91,
   "id": "2c23d2a2",
   "metadata": {},
   "outputs": [
    {
     "data": {
      "text/plain": [
       "173.75"
      ]
     },
     "execution_count": 91,
     "metadata": {},
     "output_type": "execute_result"
    }
   ],
   "source": [
    "z = np.median(height)\n",
    "z"
   ]
  },
  {
   "cell_type": "code",
   "execution_count": 92,
   "id": "0ea8c7a4",
   "metadata": {},
   "outputs": [
    {
     "data": {
      "text/plain": [
       "13.266593383382183"
      ]
     },
     "execution_count": 92,
     "metadata": {},
     "output_type": "execute_result"
    }
   ],
   "source": [
    "a = np.std(height)\n",
    "a"
   ]
  },
  {
   "cell_type": "code",
   "execution_count": 23,
   "id": "8c4732f7",
   "metadata": {},
   "outputs": [],
   "source": [
    "arr = np.array([3.6, 3.4])"
   ]
  },
  {
   "cell_type": "code",
   "execution_count": 24,
   "id": "518bcc1d",
   "metadata": {},
   "outputs": [],
   "source": [
    "truarr = np.trunc(arr)"
   ]
  },
  {
   "cell_type": "code",
   "execution_count": 25,
   "id": "6f9587a2",
   "metadata": {},
   "outputs": [
    {
     "data": {
      "text/plain": [
       "array([3., 3.])"
      ]
     },
     "execution_count": 25,
     "metadata": {},
     "output_type": "execute_result"
    }
   ],
   "source": [
    "truarr"
   ]
  },
  {
   "cell_type": "code",
   "execution_count": 26,
   "id": "19ef458d",
   "metadata": {},
   "outputs": [],
   "source": [
    "a = np.around(arr)"
   ]
  },
  {
   "cell_type": "code",
   "execution_count": 27,
   "id": "f8921acf",
   "metadata": {},
   "outputs": [
    {
     "data": {
      "text/plain": [
       "array([4., 3.])"
      ]
     },
     "execution_count": 27,
     "metadata": {},
     "output_type": "execute_result"
    }
   ],
   "source": [
    "a"
   ]
  },
  {
   "cell_type": "code",
   "execution_count": null,
   "id": "fe197b22",
   "metadata": {},
   "outputs": [],
   "source": []
  }
 ],
 "metadata": {
  "kernelspec": {
   "display_name": "Python 3 (ipykernel)",
   "language": "python",
   "name": "python3"
  },
  "language_info": {
   "codemirror_mode": {
    "name": "ipython",
    "version": 3
   },
   "file_extension": ".py",
   "mimetype": "text/x-python",
   "name": "python",
   "nbconvert_exporter": "python",
   "pygments_lexer": "ipython3",
   "version": "3.9.13"
  }
 },
 "nbformat": 4,
 "nbformat_minor": 5
}
