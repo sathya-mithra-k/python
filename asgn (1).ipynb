{
 "cells": [
  {
   "cell_type": "markdown",
   "id": "05eee1f2",
   "metadata": {},
   "source": [
    "Write a Python program that generates a random integer between 1 and 100, and then prompts the user to guess the number. If the user's guess is higher than the actual number, the program should print \"Too high, try again.\" If the guess is lower than the actual number, the program should print \"Too low, try again.\" If the guess is correct, the program should print \"Congratulations, you guessed the number"
   ]
  },
  {
   "cell_type": "code",
   "execution_count": 3,
   "id": "09ec3571",
   "metadata": {},
   "outputs": [
    {
     "name": "stdout",
     "output_type": "stream",
     "text": [
      "enter your guess: 45\n",
      "Too low, try again\n",
      "enter your guess: 78\n",
      "Too low, try again\n",
      "enter your guess: 90\n",
      "Too low, try again\n",
      "enter your guess: 96\n",
      "Too high, try again\n",
      "enter your guess: 93\n",
      "Congratulations, you guessed the number!\n",
      "It took 5 guesses to guesses the generated number\n",
      "wanna play again: no\n"
     ]
    }
   ],
   "source": [
    "import random\n",
    "\n",
    "play_again = \"yes\"\n",
    "while play_again == \"yes\":\n",
    "    guesses = 0\n",
    "    number = random.randint(1,100)\n",
    "    while True:\n",
    "        guess= int(input(\"enter your guess: \"))\n",
    "        if guess > number:\n",
    "            print(\"Too high, try again\")\n",
    "            guesses += 1\n",
    "            continue\n",
    "        elif guess < number:\n",
    "            print (\"Too low, try again\")\n",
    "            guesses += 1\n",
    "            continue\n",
    "        elif guess == number:\n",
    "            print (\"Congratulations, you guessed the number!\")\n",
    "            guesses += 1\n",
    "            print(f\"It took {guesses} guesses to guesses the generated number\")\n",
    "            break \n",
    "    play_again = input(\"wanna play again: \")"
   ]
  },
  {
   "cell_type": "markdown",
   "id": "64e8e70d",
   "metadata": {},
   "source": [
    "Write a Python function called exercise_timing that asks the user how long it took them to complete a specific exercise routine. The function should then store the user's input in a list, and continue to prompt the user for more times until they enter \"done\". Once the user enters \"done\", the function should calculate and return the average time it took the user to complete the exercise routine"
   ]
  },
  {
   "cell_type": "code",
   "execution_count": 24,
   "id": "861ae1f3",
   "metadata": {},
   "outputs": [],
   "source": [
    "def exercise_timing():\n",
    "    timings=[]\n",
    "    while True:\n",
    "        times=input(\"enter the time taken: \")\n",
    "        if times!=\"done\":\n",
    "            timings.append(int(times))\n",
    "        else:\n",
    "            break\n",
    "    a=sum(timings)\n",
    "    b=len(timings)\n",
    "    averagetime= a/b\n",
    "    print(f\"The average time took is {averagetime}\")"
   ]
  },
  {
   "cell_type": "code",
   "execution_count": 25,
   "id": "eafcf4c2",
   "metadata": {},
   "outputs": [
    {
     "name": "stdout",
     "output_type": "stream",
     "text": [
      "enter the time taken: 12\n",
      "enter the time taken: 07\n",
      "enter the time taken: 23\n",
      "enter the time taken: done\n",
      "The average time took is 14.0\n"
     ]
    }
   ],
   "source": [
    "exercise_timing()"
   ]
  },
  {
   "cell_type": "markdown",
   "id": "b4538838",
   "metadata": {},
   "source": [
    "Write a Python function called mysum that takes in a list of numbers as its argument and returns the sum of all the numbers in the list. The function should work in the same way as the built-in sum function, but you are not allowed to use the sum function in your implementation"
   ]
  },
  {
   "cell_type": "code",
   "execution_count": 37,
   "id": "1217d003",
   "metadata": {},
   "outputs": [],
   "source": [
    "def mysum():\n",
    "    list1=[]\n",
    "    print(\"enter STOP once all the required elements are entered\")\n",
    "    while True:\n",
    "        items=input(\"enter the numbers: \")\n",
    "        if items==\"STOP\":\n",
    "            break\n",
    "        else:\n",
    "            list1.append(int(items))\n",
    "    print(f\"Your list is {list1}\")\n",
    "    \n",
    "    Sum=0\n",
    "    for i in list1:\n",
    "        Sum+=i\n",
    "    print(f\"The sum of the numbers in list is {Sum}\")\n",
    "        \n",
    "        \n",
    "    "
   ]
  },
  {
   "cell_type": "code",
   "execution_count": 38,
   "id": "be7b0946",
   "metadata": {},
   "outputs": [
    {
     "name": "stdout",
     "output_type": "stream",
     "text": [
      "enter STOP once all the required elements are entered\n",
      "enter the numbers: 3\n",
      "enter the numbers: 4\n",
      "enter the numbers: 6\n",
      "enter the numbers: 7\n",
      "enter the numbers: STOP\n",
      "Your list is [3, 4, 6, 7]\n",
      "The sum of the numbers in list is 20\n"
     ]
    }
   ],
   "source": [
    "mysum()"
   ]
  },
  {
   "cell_type": "code",
   "execution_count": null,
   "id": "4bb93ca7",
   "metadata": {},
   "outputs": [],
   "source": []
  }
 ],
 "metadata": {
  "kernelspec": {
   "display_name": "Python 3 (ipykernel)",
   "language": "python",
   "name": "python3"
  },
  "language_info": {
   "codemirror_mode": {
    "name": "ipython",
    "version": 3
   },
   "file_extension": ".py",
   "mimetype": "text/x-python",
   "name": "python",
   "nbconvert_exporter": "python",
   "pygments_lexer": "ipython3",
   "version": "3.9.13"
  }
 },
 "nbformat": 4,
 "nbformat_minor": 5
}
