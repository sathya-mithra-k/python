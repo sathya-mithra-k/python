{
 "cells": [
  {
   "cell_type": "code",
   "execution_count": 6,
   "id": "a6328645",
   "metadata": {},
   "outputs": [],
   "source": [
    "import pandas as pd"
   ]
  },
  {
   "cell_type": "code",
   "execution_count": 8,
   "id": "01eb690a",
   "metadata": {},
   "outputs": [],
   "source": [
    "import csv"
   ]
  },
  {
   "cell_type": "code",
   "execution_count": 9,
   "id": "de7ce6bb",
   "metadata": {},
   "outputs": [],
   "source": [
    "data = [[\"subject\" , \"credit\" , \"contact period\"],\n",
    "        [\"discrete mathematics\", 4 ,4],\n",
    "        [\"digital priciples\",4,4],\n",
    "        [\"economic\", 3 ,3],\n",
    "        [\"oop\",3,3],\n",
    "        [\"design and analysis of algorithm\",4,5],\n",
    "        [\"fundamendal of data science\",4,3]]"
   ]
  },
  {
   "cell_type": "code",
   "execution_count": 10,
   "id": "8821dfa2",
   "metadata": {},
   "outputs": [],
   "source": [
    "csv_file = 'sem_03.csv'"
   ]
  },
  {
   "cell_type": "code",
   "execution_count": 11,
   "id": "f251dff0",
   "metadata": {},
   "outputs": [],
   "source": [
    "with open(csv_file, mode = 'w', newline = '') as file:\n",
    "    writer = csv.writer(file)\n",
    "    writer.writerows(data)"
   ]
  },
  {
   "cell_type": "code",
   "execution_count": 14,
   "id": "a266344b",
   "metadata": {},
   "outputs": [],
   "source": [
    "s = pd.read_csv('sem_03.csv')"
   ]
  },
  {
   "cell_type": "code",
   "execution_count": 15,
   "id": "e3e14142",
   "metadata": {},
   "outputs": [
    {
     "data": {
      "text/html": [
       "<div>\n",
       "<style scoped>\n",
       "    .dataframe tbody tr th:only-of-type {\n",
       "        vertical-align: middle;\n",
       "    }\n",
       "\n",
       "    .dataframe tbody tr th {\n",
       "        vertical-align: top;\n",
       "    }\n",
       "\n",
       "    .dataframe thead th {\n",
       "        text-align: right;\n",
       "    }\n",
       "</style>\n",
       "<table border=\"1\" class=\"dataframe\">\n",
       "  <thead>\n",
       "    <tr style=\"text-align: right;\">\n",
       "      <th></th>\n",
       "      <th>subject</th>\n",
       "      <th>credit</th>\n",
       "      <th>contact period</th>\n",
       "    </tr>\n",
       "  </thead>\n",
       "  <tbody>\n",
       "    <tr>\n",
       "      <th>0</th>\n",
       "      <td>discrete mathematics</td>\n",
       "      <td>4</td>\n",
       "      <td>4</td>\n",
       "    </tr>\n",
       "    <tr>\n",
       "      <th>1</th>\n",
       "      <td>digital priciples</td>\n",
       "      <td>4</td>\n",
       "      <td>4</td>\n",
       "    </tr>\n",
       "    <tr>\n",
       "      <th>2</th>\n",
       "      <td>economic</td>\n",
       "      <td>3</td>\n",
       "      <td>3</td>\n",
       "    </tr>\n",
       "    <tr>\n",
       "      <th>3</th>\n",
       "      <td>oop</td>\n",
       "      <td>3</td>\n",
       "      <td>3</td>\n",
       "    </tr>\n",
       "    <tr>\n",
       "      <th>4</th>\n",
       "      <td>design and analysis of algorithm</td>\n",
       "      <td>4</td>\n",
       "      <td>5</td>\n",
       "    </tr>\n",
       "    <tr>\n",
       "      <th>5</th>\n",
       "      <td>fundamendal of data science</td>\n",
       "      <td>4</td>\n",
       "      <td>3</td>\n",
       "    </tr>\n",
       "  </tbody>\n",
       "</table>\n",
       "</div>"
      ],
      "text/plain": [
       "                            subject  credit  contact period\n",
       "0              discrete mathematics       4               4\n",
       "1                 digital priciples       4               4\n",
       "2                          economic       3               3\n",
       "3                               oop       3               3\n",
       "4  design and analysis of algorithm       4               5\n",
       "5       fundamendal of data science       4               3"
      ]
     },
     "execution_count": 15,
     "metadata": {},
     "output_type": "execute_result"
    }
   ],
   "source": [
    "s"
   ]
  },
  {
   "cell_type": "code",
   "execution_count": null,
   "id": "687dec07",
   "metadata": {},
   "outputs": [],
   "source": []
  }
 ],
 "metadata": {
  "kernelspec": {
   "display_name": "Python 3 (ipykernel)",
   "language": "python",
   "name": "python3"
  },
  "language_info": {
   "codemirror_mode": {
    "name": "ipython",
    "version": 3
   },
   "file_extension": ".py",
   "mimetype": "text/x-python",
   "name": "python",
   "nbconvert_exporter": "python",
   "pygments_lexer": "ipython3",
   "version": "3.9.13"
  }
 },
 "nbformat": 4,
 "nbformat_minor": 5
}
