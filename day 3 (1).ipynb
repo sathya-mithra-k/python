{
 "cells": [
  {
   "cell_type": "markdown",
   "id": "334cd5b0",
   "metadata": {},
   "source": [
    "For this exercise, then, we’ll assume that you run 10 km each day as part of your exercise regime. You want to know how long, on average, that run takes. Write a function ( run_timing ) that asks how long it took for you to run 10 km. The function continues to ask how long (in minutes) it took for additional runs, until the user presses Enter. At that point, the function exits—but only after calculating and displaying the average time that the 10 km runs took."
   ]
  },
  {
   "cell_type": "code",
   "execution_count": 10,
   "id": "16609a79",
   "metadata": {},
   "outputs": [],
   "source": [
    "def running_timing():\n",
    "    number_of_runs = 0\n",
    "    total_time = 0\n",
    "    while True:\n",
    "        one_run = input('Enter 10 km run time: ')\n",
    "        number_of_runs += 1\n",
    "        total_time += float(one_run)\n",
    "        if number_of_runs == 3:\n",
    "            break\n",
    "    average_time = total_time / number_of_runs\n",
    "    print(f'Average of {average_time}, over {number_of_runs} runs')"
   ]
  },
  {
   "cell_type": "code",
   "execution_count": 12,
   "id": "fdd990a7",
   "metadata": {},
   "outputs": [
    {
     "name": "stdout",
     "output_type": "stream",
     "text": [
      "Enter 10 km run time: 12.5\n",
      "Enter 10 km run time: 34\n",
      "Enter 10 km run time: 33\n",
      "Average of 26.5, over 3 runs\n"
     ]
    }
   ],
   "source": [
    "running_timing()"
   ]
  },
  {
   "cell_type": "code",
   "execution_count": 13,
   "id": "03b99ece",
   "metadata": {},
   "outputs": [],
   "source": [
    "def running_timing():\n",
    "    number_of_runs = 0\n",
    "    total_time = 0\n",
    "    while True:\n",
    "        one_run = input('Enter 10 km run time: ')\n",
    "        number_of_runs += 1\n",
    "        total_time += float(one_run)\n",
    "        if number_of_runs == 3:\n",
    "            total_time += float(one_run)\n",
    "            break\n",
    "    average_time = total_time / number_of_runs\n",
    "    print(f'Average of {average_time}, over {number_of_runs} runs')"
   ]
  },
  {
   "cell_type": "code",
   "execution_count": 15,
   "id": "a5efece9",
   "metadata": {},
   "outputs": [
    {
     "name": "stdout",
     "output_type": "stream",
     "text": [
      "Enter 10 km run time: 1\n",
      "Enter 10 km run time: 2\n",
      "Enter 10 km run time: 3\n",
      "Average of 3.0, over 3 runs\n"
     ]
    }
   ],
   "source": [
    "running_timing()"
   ]
  },
  {
   "cell_type": "code",
   "execution_count": null,
   "id": "d07dcf6b",
   "metadata": {},
   "outputs": [],
   "source": []
  }
 ],
 "metadata": {
  "kernelspec": {
   "display_name": "Python 3 (ipykernel)",
   "language": "python",
   "name": "python3"
  },
  "language_info": {
   "codemirror_mode": {
    "name": "ipython",
    "version": 3
   },
   "file_extension": ".py",
   "mimetype": "text/x-python",
   "name": "python",
   "nbconvert_exporter": "python",
   "pygments_lexer": "ipython3",
   "version": "3.9.13"
  }
 },
 "nbformat": 4,
 "nbformat_minor": 5
}
