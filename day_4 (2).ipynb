{
 "cells": [
  {
   "cell_type": "code",
   "execution_count": 1,
   "id": "7b505ea0",
   "metadata": {},
   "outputs": [],
   "source": [
    "#triangle using string"
   ]
  },
  {
   "cell_type": "code",
   "execution_count": 12,
   "id": "65543d77",
   "metadata": {},
   "outputs": [
    {
     "name": "stdout",
     "output_type": "stream",
     "text": [
      "enter your name: sathya\n",
      "['s']\n",
      "['s', 'a']\n",
      "['s', 'a', 't']\n",
      "['s', 'a', 't', 'h']\n",
      "['s', 'a', 't', 'h', 'y']\n",
      "['s', 'a', 't', 'h', 'y', 'a']\n"
     ]
    }
   ],
   "source": [
    "name = input(\"enter your name: \")\n",
    "list1 = []\n",
    "for i in name:\n",
    "    list1.append(i)\n",
    "    print(list1)"
   ]
  },
  {
   "cell_type": "code",
   "execution_count": 13,
   "id": "dff67d86",
   "metadata": {},
   "outputs": [
    {
     "name": "stdout",
     "output_type": "stream",
     "text": [
      "enter your name: ambi\n",
      "a\n",
      "am\n",
      "amb\n",
      "ambi\n"
     ]
    }
   ],
   "source": [
    "name = input(\"enter your name: \")\n",
    "list1 = \"\"\n",
    "for i in name:\n",
    "    list1 += i\n",
    "    print(list1)"
   ]
  },
  {
   "cell_type": "code",
   "execution_count": null,
   "id": "f06e84e6",
   "metadata": {},
   "outputs": [],
   "source": []
  }
 ],
 "metadata": {
  "kernelspec": {
   "display_name": "Python 3 (ipykernel)",
   "language": "python",
   "name": "python3"
  },
  "language_info": {
   "codemirror_mode": {
    "name": "ipython",
    "version": 3
   },
   "file_extension": ".py",
   "mimetype": "text/x-python",
   "name": "python",
   "nbconvert_exporter": "python",
   "pygments_lexer": "ipython3",
   "version": "3.9.13"
  }
 },
 "nbformat": 4,
 "nbformat_minor": 5
}
