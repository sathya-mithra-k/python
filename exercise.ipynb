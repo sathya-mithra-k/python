{
 "cells": [
  {
   "cell_type": "markdown",
   "id": "e0a15070",
   "metadata": {},
   "source": [
    "# 1.Create a program that displays your name and complete mailing address formatted in the manner that you would usually see it on the outside of an  envelope. Your program does not need to read any input from the user."
   ]
  },
  {
   "cell_type": "code",
   "execution_count": 2,
   "id": "8147af1c",
   "metadata": {},
   "outputs": [
    {
     "name": "stdout",
     "output_type": "stream",
     "text": [
      "no: 3, F1,\n",
      "rose building \n",
      "4th street\n",
      "chennai-600 xxx \n",
      "telephone : 98xxxxxx\n"
     ]
    }
   ],
   "source": [
    "print(\"no: 3, F1,\\nrose building \\n4th street\\nchennai-600 xxx \\ntelephone : 98xxxxxx\")"
   ]
  },
  {
   "cell_type": "markdown",
   "id": "a56c9d20",
   "metadata": {},
   "source": [
    "# 2. Write a program that asks the user to enter his or her name. The program should respond with a message that says hello to the user, using his or her name."
   ]
  },
  {
   "cell_type": "code",
   "execution_count": 5,
   "id": "981c171a",
   "metadata": {},
   "outputs": [
    {
     "name": "stdout",
     "output_type": "stream",
     "text": [
      "enter your name : sathya\n",
      "hello! sathya\n"
     ]
    }
   ],
   "source": [
    "name = input(\"enter your name : \")\n",
    "print(f\"hello! {name}\")"
   ]
  },
  {
   "cell_type": "markdown",
   "id": "46e67aa9",
   "metadata": {},
   "source": [
    "# 3.Write a program that asks the user to enter the width and length of a room. Once the values have been read, your program should compute and display the area of the room. The length and the width will be entered as floating point numbers. Include units in your prompt and output message; either feet or meters, depending on which unit you are more comfortable working with.\n"
   ]
  },
  {
   "cell_type": "code",
   "execution_count": 6,
   "id": "7049487c",
   "metadata": {},
   "outputs": [
    {
     "name": "stdout",
     "output_type": "stream",
     "text": [
      "enter the lenght of the room in meters: 25.0\n",
      "enter the width of the room in meters: 3.0\n",
      "the area of the room is 75.0 m^2\n"
     ]
    }
   ],
   "source": [
    "length = float(input(\"enter the lenght of the room in meters: \"))\n",
    "width = float(input(\"enter the width of the room in meters: \"))\n",
    "area = length*width\n",
    "print(f\"the area of the room is {area} m^2\")"
   ]
  },
  {
   "cell_type": "markdown",
   "id": "86945a40",
   "metadata": {},
   "source": [
    "# 4.Create a program that reads the length and width of a farmer’s field from the user in feet. Display the area of the field in acres."
   ]
  },
  {
   "cell_type": "code",
   "execution_count": 7,
   "id": "9731db73",
   "metadata": {},
   "outputs": [
    {
     "name": "stdout",
     "output_type": "stream",
     "text": [
      "enter the length in feet: 45.1\n",
      "enter the width in feet: 7.1\n",
      "The area of the land in acres is 13948347.6\n"
     ]
    }
   ],
   "source": [
    "length = float(input(\"enter the length in feet: \"))\n",
    "width = float(input(\"enter the width in feet: \"))\n",
    "area = length*width\n",
    "area1 = 43560*area\n",
    "print(f\"The area of the land in acres is {area1}\")"
   ]
  },
  {
   "cell_type": "markdown",
   "id": "5a8f8556",
   "metadata": {},
   "source": [
    "# 5.In many jurisdictions a small deposit is added to drink containers to encourage people to recycle them. In one particular jurisdiction, drink containers holding one liter or less have a In many jurisdictions a small deposit is added to drink containers to encourage people to recycle them. In one particular jurisdiction, drink containers holding one liter or less have a point 10 dollar deposit, and drink containers holding more than one liter have a point 25 dollar deposit. Write a program that reads the number of containers of each size from the user. Your program should continue by computing and displaying the refund that will be received for returning those containers. Format the output so that it includes a dollar sign and always displays exactly two decimal places."
   ]
  },
  {
   "cell_type": "code",
   "execution_count": 11,
   "id": "8d078b47",
   "metadata": {},
   "outputs": [
    {
     "name": "stdout",
     "output_type": "stream",
     "text": [
      "45.689639234\n"
     ]
    }
   ],
   "source": [
    "a=45.6896392340\n",
    "print(\"{:.9f}\".format(a))"
   ]
  },
  {
   "cell_type": "code",
   "execution_count": 20,
   "id": "570aa209",
   "metadata": {},
   "outputs": [
    {
     "name": "stdout",
     "output_type": "stream",
     "text": [
      "enter the number of container less than or equal to 1l: 56\n",
      "enter the number of container more than 1l: 12\n",
      " The total amount is $8.60\n"
     ]
    }
   ],
   "source": [
    "small_deposit = int(input(\"enter the number of container less than or equal to 1l: \"))\n",
    "big_deposit = int(input(\"enter the number of container more than 1l: \"))\n",
    "sumt = (0.10*small_deposit)+(0.25*big_deposit)\n",
    "print(f\" The total amount is $\"\"{:.2f}\".format(sumt))"
   ]
  },
  {
   "cell_type": "markdown",
   "id": "8a6877f8",
   "metadata": {},
   "source": [
    "# 6.The program that you create for this exercise will begin by reading the cost of a meal ordered at a restaurant from the user. Then your program will compute the tax and tip for the meal. Use your local tax rate when computing the amount of tax owing. Compute the tip as 18 percent of the meal amount (without the tax). The output from your program should include the tax amount, the tip amount, and the grand total for the meal including both the tax and the tip. Format the output so that all of the values are displayed using two decimal places."
   ]
  },
  {
   "cell_type": "code",
   "execution_count": 21,
   "id": "80b210cc",
   "metadata": {},
   "outputs": [
    {
     "name": "stdout",
     "output_type": "stream",
     "text": [
      "enter the cost of dining: 340\n",
      "tax: $40.8\n",
      "tip: $61.199999999999996\n",
      "grand total: $442.00\n"
     ]
    }
   ],
   "source": [
    "cost = int(input(\"enter the cost of dining: \"))\n",
    "tax = cost*0.12 #tax is 12%\n",
    "tip = cost*0.18\n",
    "total = cost + tax + tip\n",
    "print(f\"tax: ${tax}\\ntip: ${tip}\\ngrand total: $\"\"{:.2f}\".format(total))"
   ]
  },
  {
   "cell_type": "markdown",
   "id": "0e20ea23",
   "metadata": {},
   "source": [
    "# 7. Write a program that reads a positive integer, n, from the user and then displays the sum of all of the integers from 1 to n. The sum of the first n positive integers can be computed using the formula:sum = ((n)(n + 1))/2"
   ]
  },
  {
   "cell_type": "code",
   "execution_count": 30,
   "id": "9837c6d2",
   "metadata": {},
   "outputs": [
    {
     "name": "stdout",
     "output_type": "stream",
     "text": [
      "enter the value: 2\n",
      "The sum of first 2 numbers are 3.0\n"
     ]
    }
   ],
   "source": [
    "n = int(input(\"enter the value: \"))\n",
    "total=(n)*(n+1)/2\n",
    "print(f\"The sum of first {n} numbers are {total}\")"
   ]
  },
  {
   "cell_type": "markdown",
   "id": "0d21af5d",
   "metadata": {},
   "source": [
    "# 8. An online retailer sells two products: widgets and gizmos. Each widget weighs 75 grams. Each gizmo weighs 112 grams. Write a program that reads the number of widgets and the number of gizmos in an order from the user. Then your program should compute and display the total weight of the order."
   ]
  },
  {
   "cell_type": "code",
   "execution_count": 31,
   "id": "04c8373c",
   "metadata": {},
   "outputs": [
    {
     "name": "stdout",
     "output_type": "stream",
     "text": [
      "enter the number of widgets: 3\n",
      "enter the number of gizmo: 5\n",
      "the total weight of the order is 785g\n"
     ]
    }
   ],
   "source": [
    "a = int(input(\"enter the number of widgets: \"))\n",
    "b = int(input(\"enter the number of gizmo: \"))\n",
    "weight= (a*75)+(b*112)\n",
    "print(f\"the total weight of the order is {weight}g\")"
   ]
  },
  {
   "cell_type": "markdown",
   "id": "c56bd3f3",
   "metadata": {},
   "source": [
    "# 10.Create a program that reads two integers, a and b, from the user. Your program should compute and display:"
   ]
  },
  {
   "cell_type": "markdown",
   "id": "68702db6",
   "metadata": {},
   "source": [
    "# The sum of a and b"
   ]
  },
  {
   "cell_type": "code",
   "execution_count": 32,
   "id": "f2b3df0b",
   "metadata": {},
   "outputs": [],
   "source": [
    "def add(a,b):\n",
    "    return a+b"
   ]
  },
  {
   "cell_type": "code",
   "execution_count": 33,
   "id": "f06fb8ec",
   "metadata": {},
   "outputs": [
    {
     "data": {
      "text/plain": [
       "5"
      ]
     },
     "execution_count": 33,
     "metadata": {},
     "output_type": "execute_result"
    }
   ],
   "source": [
    "add(2,3)"
   ]
  },
  {
   "cell_type": "markdown",
   "id": "3dcafb95",
   "metadata": {},
   "source": [
    "# The difference when b is subtracted from a"
   ]
  },
  {
   "cell_type": "code",
   "execution_count": 34,
   "id": "31470014",
   "metadata": {},
   "outputs": [],
   "source": [
    "def sub(a,b):\n",
    "    return b-a"
   ]
  },
  {
   "cell_type": "code",
   "execution_count": 35,
   "id": "c9ec983d",
   "metadata": {},
   "outputs": [
    {
     "data": {
      "text/plain": [
       "1"
      ]
     },
     "execution_count": 35,
     "metadata": {},
     "output_type": "execute_result"
    }
   ],
   "source": [
    "sub(2,3)"
   ]
  },
  {
   "cell_type": "markdown",
   "id": "8e153a2f",
   "metadata": {},
   "source": [
    "# The product of a and b"
   ]
  },
  {
   "cell_type": "code",
   "execution_count": 36,
   "id": "7b396455",
   "metadata": {},
   "outputs": [],
   "source": [
    "def mul(a,b):\n",
    "    return a*b"
   ]
  },
  {
   "cell_type": "code",
   "execution_count": 37,
   "id": "b4bdba39",
   "metadata": {},
   "outputs": [
    {
     "data": {
      "text/plain": [
       "6"
      ]
     },
     "execution_count": 37,
     "metadata": {},
     "output_type": "execute_result"
    }
   ],
   "source": [
    "mul(2,3)"
   ]
  },
  {
   "cell_type": "markdown",
   "id": "ab8dcf88",
   "metadata": {},
   "source": [
    "# The quotient when a is divided by b"
   ]
  },
  {
   "cell_type": "code",
   "execution_count": 38,
   "id": "aa02318e",
   "metadata": {},
   "outputs": [],
   "source": [
    "def qdiv(a,b):\n",
    "    return a/b"
   ]
  },
  {
   "cell_type": "code",
   "execution_count": 39,
   "id": "e10d0a29",
   "metadata": {},
   "outputs": [
    {
     "data": {
      "text/plain": [
       "2.0"
      ]
     },
     "execution_count": 39,
     "metadata": {},
     "output_type": "execute_result"
    }
   ],
   "source": [
    "qdiv(6,3)"
   ]
  },
  {
   "cell_type": "markdown",
   "id": "be4b1de7",
   "metadata": {},
   "source": [
    "# The remainder when a is divided by b"
   ]
  },
  {
   "cell_type": "code",
   "execution_count": 40,
   "id": "0c1ffdd4",
   "metadata": {},
   "outputs": [],
   "source": [
    "def mdiv(a,b):\n",
    "    return a%b"
   ]
  },
  {
   "cell_type": "code",
   "execution_count": 41,
   "id": "4498ea44",
   "metadata": {},
   "outputs": [
    {
     "data": {
      "text/plain": [
       "1"
      ]
     },
     "execution_count": 41,
     "metadata": {},
     "output_type": "execute_result"
    }
   ],
   "source": [
    "mdiv(3,2)"
   ]
  },
  {
   "cell_type": "markdown",
   "id": "1433063b",
   "metadata": {},
   "source": [
    "# The result of log10 a"
   ]
  },
  {
   "cell_type": "code",
   "execution_count": 50,
   "id": "522ec38e",
   "metadata": {},
   "outputs": [],
   "source": [
    "import math\n",
    "def log(a):\n",
    "    return(math.log10(a))"
   ]
  },
  {
   "cell_type": "code",
   "execution_count": 51,
   "id": "8d062d8a",
   "metadata": {},
   "outputs": [
    {
     "data": {
      "text/plain": [
       "0.3010299956639812"
      ]
     },
     "execution_count": 51,
     "metadata": {},
     "output_type": "execute_result"
    }
   ],
   "source": [
    "log(2)"
   ]
  },
  {
   "cell_type": "markdown",
   "id": "7387e529",
   "metadata": {},
   "source": [
    "# The result of a^b"
   ]
  },
  {
   "cell_type": "code",
   "execution_count": 52,
   "id": "009e9c57",
   "metadata": {},
   "outputs": [],
   "source": [
    "def power(a,b):\n",
    "    return a**b"
   ]
  },
  {
   "cell_type": "code",
   "execution_count": 53,
   "id": "92dc83fc",
   "metadata": {},
   "outputs": [
    {
     "data": {
      "text/plain": [
       "8"
      ]
     },
     "execution_count": 53,
     "metadata": {},
     "output_type": "execute_result"
    }
   ],
   "source": [
    "power(2,3)"
   ]
  },
  {
   "cell_type": "markdown",
   "id": "f926d717",
   "metadata": {},
   "source": [
    "# 11. In the United States, fuel efficiency for vehicles is normally expressed in miles-pergallon (MPG). In Canada, fuel efficiency is normally expressed in liters-per-hundred kilometers (L/100 km). Use your research skills to determine how to convert from MPG to L/100 km. Then create a program that reads a value from the user in American units and displays the equivalent fuel efficiency in Canadian units."
   ]
  },
  {
   "cell_type": "code",
   "execution_count": 11,
   "id": "b416930c",
   "metadata": {},
   "outputs": [
    {
     "name": "stdout",
     "output_type": "stream",
     "text": [
      "enter the fuel efficiency in american units: 23\n",
      "The efficiency for vehicles in L/100 KM is 0.0814\n"
     ]
    }
   ],
   "source": [
    "MPG = float(input(\"enter the fuel efficiency in american units: \"))\n",
    "a = MPG/282.5\n",
    "print(f\"The efficiency for vehicles in L/100 KM is \"\"{:.4f}\".format(a))"
   ]
  },
  {
   "cell_type": "markdown",
   "id": "357a7df2",
   "metadata": {},
   "source": [
    "# 12. The surface of the Earth is curved, and the distance between degrees of longitude varies with latitude. As a result, finding the distance between two points on the surface of the Earth is more complicated than simply using the Pythagorean theorem. Let (t1, g1) and (t2, g2) be the latitude and longitude of two points on the Earth’s surface. The distance between these points, following the surface of the Earth, in kilometers is:\n"
   ]
  },
  {
   "cell_type": "markdown",
   "id": "5585d27b",
   "metadata": {},
   "source": [
    "# distance = 6371.01 × arccos(sin(t1) × sin(t2) + cos(t1) × cos(t2) × cos(g1 − g2))"
   ]
  },
  {
   "cell_type": "markdown",
   "id": "f32ed3ae",
   "metadata": {},
   "source": [
    "# Create a program that allows the user to enter the latitude and longitude of two points on the Earth in degrees. Your program should display the distance between the points, following the surface of the earth, in kilometers."
   ]
  },
  {
   "cell_type": "code",
   "execution_count": 23,
   "id": "62b5ae9c",
   "metadata": {},
   "outputs": [
    {
     "name": "stdout",
     "output_type": "stream",
     "text": [
      "Enter the latitude of 1st point: 53.32055555555556\n",
      "Enter the longtitude of 1st point: -1.7297222222222221\n",
      "Enter the latitude of 2st point: 53.31861111111111\n",
      "Enter the longtitude of 1st point: -1.6997222222222223\n",
      "The distance between the two points on earth 3271.25012995628\n"
     ]
    }
   ],
   "source": [
    "from math import radians, cos, sin, acos\n",
    "lat1 = float(input(\"Enter the latitude of 1st point: \"))\n",
    "log1 = float(input(\"Enter the longtitude of 1st point: \"))\n",
    "lat2 = float(input(\"Enter the latitude of 2st point: \"))\n",
    "log2 = float(input(\"Enter the longtitude of 1st point: \"))\n",
    "\n",
    "t1 = radians(lat1)\n",
    "g1 = radians(log1)\n",
    "t2 = radians(lat2)\n",
    "g2 = radians(log2)\n",
    "\n",
    "distance = 6371.01 * acos(sin(t1)) * sin(t2) + cos(t1) * cos(t2) *  cos( g1 - g2)\n",
    "\n",
    "print(f\"The distance between the two points on earth {distance}\")"
   ]
  },
  {
   "cell_type": "code",
   "execution_count": null,
   "id": "0e42af96",
   "metadata": {},
   "outputs": [],
   "source": []
  }
 ],
 "metadata": {
  "kernelspec": {
   "display_name": "Python 3 (ipykernel)",
   "language": "python",
   "name": "python3"
  },
  "language_info": {
   "codemirror_mode": {
    "name": "ipython",
    "version": 3
   },
   "file_extension": ".py",
   "mimetype": "text/x-python",
   "name": "python",
   "nbconvert_exporter": "python",
   "pygments_lexer": "ipython3",
   "version": "3.9.13"
  }
 },
 "nbformat": 4,
 "nbformat_minor": 5
}
