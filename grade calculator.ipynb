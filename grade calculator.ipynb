{
 "cells": [
  {
   "cell_type": "code",
   "execution_count": 1,
   "id": "0284b9a4",
   "metadata": {},
   "outputs": [
    {
     "name": "stdout",
     "output_type": "stream",
     "text": [
      "hello\n"
     ]
    }
   ],
   "source": [
    "print(\"hello\")"
   ]
  },
  {
   "cell_type": "code",
   "execution_count": 2,
   "id": "5a2dad14",
   "metadata": {},
   "outputs": [
    {
     "data": {
      "text/plain": [
       "dict_items([('Language', 80), ('English', 95), ('Maths', 65), ('Social', 92), ('Science', 75)])"
      ]
     },
     "execution_count": 2,
     "metadata": {},
     "output_type": "execute_result"
    }
   ],
   "source": [
    "marks = {\"Language\": 80, \"English\": 95, \"Maths\": 65, \"Social\": 92, \"Science\": 75 }\n",
    "marks.items()\n"
   ]
  },
  {
   "cell_type": "code",
   "execution_count": 3,
   "id": "66eef402",
   "metadata": {},
   "outputs": [],
   "source": [
    "sorted_marks = sorted(marks.items(), key=lambda x: x[1],reverse =True)"
   ]
  },
  {
   "cell_type": "code",
   "execution_count": 4,
   "id": "71da7c46",
   "metadata": {},
   "outputs": [
    {
     "name": "stdout",
     "output_type": "stream",
     "text": [
      "Sorted marks:\n",
      "English 95\n",
      "Social 92\n",
      "Language 80\n",
      "Science 75\n",
      "Maths 65\n"
     ]
    }
   ],
   "source": [
    "print(\"Sorted marks:\")\n",
    "for name, mark in sorted_marks:\n",
    "    print(name , mark)"
   ]
  },
  {
   "cell_type": "code",
   "execution_count": 11,
   "id": "1b748787",
   "metadata": {},
   "outputs": [
    {
     "name": "stdout",
     "output_type": "stream",
     "text": [
      "Sorted marks:\n",
      "1 English 95\n",
      "2 Social 92\n",
      "3 Language 80\n",
      "4 Science 75\n",
      "5 Maths 65\n"
     ]
    }
   ],
   "source": [
    "print(\"Sorted marks:\")\n",
    "for i, (name, mark) in enumerate (sorted_marks):\n",
    "    print(i+1, name , mark)"
   ]
  },
  {
   "cell_type": "code",
   "execution_count": 15,
   "id": "687a694e",
   "metadata": {},
   "outputs": [
    {
     "name": "stdout",
     "output_type": "stream",
     "text": [
      "3\n",
      "10\n",
      "3\n",
      "4\n",
      "5\n",
      "6\n",
      "7\n",
      "8\n",
      "9\n"
     ]
    }
   ],
   "source": [
    "n= int(input())\n",
    "m=int(input())\n",
    "for i in range(n,m):\n",
    "    if i % i == 0:\n",
    "        print(i) "
   ]
  },
  {
   "cell_type": "code",
   "execution_count": null,
   "id": "9ac12e23",
   "metadata": {},
   "outputs": [],
   "source": []
  }
 ],
 "metadata": {
  "kernelspec": {
   "display_name": "Python 3 (ipykernel)",
   "language": "python",
   "name": "python3"
  },
  "language_info": {
   "codemirror_mode": {
    "name": "ipython",
    "version": 3
   },
   "file_extension": ".py",
   "mimetype": "text/x-python",
   "name": "python",
   "nbconvert_exporter": "python",
   "pygments_lexer": "ipython3",
   "version": "3.9.13"
  }
 },
 "nbformat": 4,
 "nbformat_minor": 5
}
