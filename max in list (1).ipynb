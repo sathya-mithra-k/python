{
 "cells": [
  {
   "cell_type": "code",
   "execution_count": 37,
   "id": "d1f3f095",
   "metadata": {},
   "outputs": [],
   "source": [
    "def max_value():\n",
    "    a = [1,3,4,6,10]\n",
    "    Max = a[0]\n",
    "    for i in a:\n",
    "        if (i > Max):\n",
    "            Max = i\n",
    "    print(f\"The largest number from the {a} is {Max}.\")"
   ]
  },
  {
   "cell_type": "code",
   "execution_count": 38,
   "id": "caeeeb17",
   "metadata": {},
   "outputs": [
    {
     "name": "stdout",
     "output_type": "stream",
     "text": [
      "The largest number from the [1, 3, 4, 6, 10] is 10.\n"
     ]
    }
   ],
   "source": [
    "max_value()"
   ]
  },
  {
   "cell_type": "code",
   "execution_count": null,
   "id": "2eab1274",
   "metadata": {},
   "outputs": [],
   "source": []
  }
 ],
 "metadata": {
  "kernelspec": {
   "display_name": "Python 3 (ipykernel)",
   "language": "python",
   "name": "python3"
  },
  "language_info": {
   "codemirror_mode": {
    "name": "ipython",
    "version": 3
   },
   "file_extension": ".py",
   "mimetype": "text/x-python",
   "name": "python",
   "nbconvert_exporter": "python",
   "pygments_lexer": "ipython3",
   "version": "3.9.13"
  }
 },
 "nbformat": 4,
 "nbformat_minor": 5
}
