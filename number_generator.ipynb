{
 "cells": [
  {
   "cell_type": "code",
   "execution_count": null,
   "id": "a4160bf7",
   "metadata": {},
   "outputs": [],
   "source": []
  },
  {
   "cell_type": "code",
   "execution_count": 5,
   "id": "1d02e243",
   "metadata": {},
   "outputs": [
    {
     "name": "stdout",
     "output_type": "stream",
     "text": [
      "['a', 'c', 'e', 'g', 'i']\n"
     ]
    }
   ],
   "source": [
    "letters = [\"a\", \"b\", \"c\", \"d\", \"e\", \"f\" , \"g\", \"h\", \"i\", \"j\"]\n",
    "print(letters[::2])"
   ]
  },
  {
   "cell_type": "markdown",
   "id": "741f2206",
   "metadata": {},
   "source": [
    "# scrit that generates 1 to 20 manually"
   ]
  },
  {
   "cell_type": "code",
   "execution_count": 17,
   "id": "aa6c6ada",
   "metadata": {},
   "outputs": [],
   "source": [
    "s = range(0,21)"
   ]
  },
  {
   "cell_type": "code",
   "execution_count": 9,
   "id": "e3a71131",
   "metadata": {},
   "outputs": [
    {
     "name": "stdout",
     "output_type": "stream",
     "text": [
      "[0, 1, 2, 3, 4, 5, 6, 7, 8, 9, 10, 11, 12, 13, 14, 15, 16, 17, 18, 19, 20]\n"
     ]
    }
   ],
   "source": [
    "print(list(s))"
   ]
  },
  {
   "cell_type": "code",
   "execution_count": 10,
   "id": "d5e4aaa4",
   "metadata": {},
   "outputs": [
    {
     "name": "stdout",
     "output_type": "stream",
     "text": [
      "[0, 10, 20, 30, 40, 50, 60, 70, 80, 90, 100, 110, 120, 130, 140, 150, 160, 170, 180, 190, 200]\n"
     ]
    }
   ],
   "source": [
    "print ([10*x for x in s])"
   ]
  },
  {
   "cell_type": "code",
   "execution_count": 19,
   "id": "767e5006",
   "metadata": {},
   "outputs": [
    {
     "data": {
      "text/plain": [
       "'range(1, 10)'"
      ]
     },
     "execution_count": 19,
     "metadata": {},
     "output_type": "execute_result"
    }
   ],
   "source": [
    "str(range(1,10))"
   ]
  },
  {
   "cell_type": "code",
   "execution_count": 20,
   "id": "582481e8",
   "metadata": {},
   "outputs": [
    {
     "name": "stdout",
     "output_type": "stream",
     "text": [
      "0\n",
      "1\n",
      "2\n",
      "3\n",
      "4\n",
      "5\n",
      "6\n",
      "7\n",
      "8\n",
      "9\n",
      "10\n",
      "11\n",
      "12\n",
      "13\n",
      "14\n",
      "15\n",
      "16\n",
      "17\n",
      "18\n",
      "19\n",
      "20\n"
     ]
    }
   ],
   "source": [
    "for i in s:\n",
    "    print (str(i))"
   ]
  },
  {
   "cell_type": "code",
   "execution_count": 23,
   "id": "8281893e",
   "metadata": {},
   "outputs": [],
   "source": [
    "d = {\"a\":1 , \"b\":2}"
   ]
  },
  {
   "cell_type": "code",
   "execution_count": 25,
   "id": "3253eeaf",
   "metadata": {},
   "outputs": [
    {
     "name": "stdout",
     "output_type": "stream",
     "text": [
      "{'a': 1, 'b': 2}\n"
     ]
    }
   ],
   "source": [
    "print (d)"
   ]
  },
  {
   "cell_type": "code",
   "execution_count": 26,
   "id": "40925110",
   "metadata": {},
   "outputs": [],
   "source": [
    "d.update({\"c\":3})"
   ]
  },
  {
   "cell_type": "code",
   "execution_count": 27,
   "id": "aef80649",
   "metadata": {},
   "outputs": [
    {
     "name": "stdout",
     "output_type": "stream",
     "text": [
      "{'a': 1, 'b': 2, 'c': 3}\n"
     ]
    }
   ],
   "source": [
    "print(d)"
   ]
  },
  {
   "cell_type": "code",
   "execution_count": 30,
   "id": "073ffe04",
   "metadata": {},
   "outputs": [],
   "source": [
    "d[\"d\"] = 4"
   ]
  },
  {
   "cell_type": "code",
   "execution_count": 32,
   "id": "848072c2",
   "metadata": {},
   "outputs": [
    {
     "name": "stdout",
     "output_type": "stream",
     "text": [
      "{'a': 1, 'b': 2, 'c': 3, 'd': 4}\n"
     ]
    }
   ],
   "source": [
    "print (d)"
   ]
  },
  {
   "cell_type": "code",
   "execution_count": 35,
   "id": "b6cd50d5",
   "metadata": {},
   "outputs": [
    {
     "name": "stdout",
     "output_type": "stream",
     "text": [
      "10\n"
     ]
    }
   ],
   "source": [
    "print (sum(d.values()))"
   ]
  },
  {
   "cell_type": "code",
   "execution_count": 38,
   "id": "3ebc765d",
   "metadata": {},
   "outputs": [
    {
     "name": "stdout",
     "output_type": "stream",
     "text": [
      "dict_values([1, 2, 3, 4])\n"
     ]
    }
   ],
   "source": [
    "print(d.values())"
   ]
  },
  {
   "cell_type": "code",
   "execution_count": null,
   "id": "0ef18978",
   "metadata": {},
   "outputs": [],
   "source": []
  }
 ],
 "metadata": {
  "kernelspec": {
   "display_name": "Python 3 (ipykernel)",
   "language": "python",
   "name": "python3"
  },
  "language_info": {
   "codemirror_mode": {
    "name": "ipython",
    "version": 3
   },
   "file_extension": ".py",
   "mimetype": "text/x-python",
   "name": "python",
   "nbconvert_exporter": "python",
   "pygments_lexer": "ipython3",
   "version": "3.9.13"
  }
 },
 "nbformat": 4,
 "nbformat_minor": 5
}
