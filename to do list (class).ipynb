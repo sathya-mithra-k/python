{
 "cells": [
  {
   "cell_type": "code",
   "execution_count": 14,
   "id": "4bbaf9db",
   "metadata": {},
   "outputs": [],
   "source": [
    "class to_do_list:\n",
    "    def __init__(self,tasks):\n",
    "        self.tasks = tasks\n",
    "        \n",
    "    def add_task(self,todo):\n",
    "        self.tasks += todo\n",
    "    \n",
    "    def remove_task(self,todo):\n",
    "            self.tasks -= todo\n",
    "        \n",
    "    def disply(self):\n",
    "        return self.tasks\n",
    "        "
   ]
  },
  {
   "cell_type": "code",
   "execution_count": 15,
   "id": "6ae5248d",
   "metadata": {},
   "outputs": [],
   "source": [
    "ambi = to_do_list(\"clean\")"
   ]
  },
  {
   "cell_type": "code",
   "execution_count": 16,
   "id": "72a81f50",
   "metadata": {},
   "outputs": [
    {
     "name": "stdout",
     "output_type": "stream",
     "text": [
      "clean\n"
     ]
    }
   ],
   "source": [
    "print(ambi.tasks)"
   ]
  },
  {
   "cell_type": "code",
   "execution_count": 17,
   "id": "0360f055",
   "metadata": {},
   "outputs": [],
   "source": [
    "ambi.add_task(\", study\")"
   ]
  },
  {
   "cell_type": "code",
   "execution_count": 18,
   "id": "af482551",
   "metadata": {},
   "outputs": [
    {
     "name": "stdout",
     "output_type": "stream",
     "text": [
      "clean, study\n"
     ]
    }
   ],
   "source": [
    "print(ambi.disply())"
   ]
  },
  {
   "cell_type": "code",
   "execution_count": 19,
   "id": "b4224575",
   "metadata": {},
   "outputs": [],
   "source": [
    "ambi.add_task(\", write\")"
   ]
  },
  {
   "cell_type": "code",
   "execution_count": 20,
   "id": "9ff7dd0a",
   "metadata": {},
   "outputs": [
    {
     "name": "stdout",
     "output_type": "stream",
     "text": [
      "clean, study, write\n"
     ]
    }
   ],
   "source": [
    "print(ambi.disply())"
   ]
  },
  {
   "cell_type": "code",
   "execution_count": 22,
   "id": "3a699efc",
   "metadata": {},
   "outputs": [],
   "source": [
    "class todo_task:\n",
    "    \n",
    "    def __init__(self,task):\n",
    "        self.task = task\n",
    "        \n",
    "    def adding_task(self,todo):\n",
    "        self.task += todo\n",
    "        \n",
    "    def removing_task(self,todo):\n",
    "        self.task -= todo\n",
    "        \n",
    "    def disply(self):\n",
    "        return self.task\n",
    "        "
   ]
  },
  {
   "cell_type": "code",
   "execution_count": 24,
   "id": "29fd2faf",
   "metadata": {},
   "outputs": [],
   "source": [
    "sam = todo_task(\"clean\")"
   ]
  },
  {
   "cell_type": "code",
   "execution_count": 25,
   "id": "5443d047",
   "metadata": {},
   "outputs": [
    {
     "name": "stdout",
     "output_type": "stream",
     "text": [
      "clean\n"
     ]
    }
   ],
   "source": [
    "print(sam.task)"
   ]
  },
  {
   "cell_type": "code",
   "execution_count": 27,
   "id": "7bffca47",
   "metadata": {},
   "outputs": [],
   "source": [
    "sam.adding_task(\", write\")"
   ]
  },
  {
   "cell_type": "code",
   "execution_count": 28,
   "id": "ef2d4b08",
   "metadata": {},
   "outputs": [],
   "source": [
    "sam.adding_task(\", study\")"
   ]
  },
  {
   "cell_type": "code",
   "execution_count": 29,
   "id": "2da99b22",
   "metadata": {},
   "outputs": [
    {
     "data": {
      "text/plain": [
       "'clean, write, study'"
      ]
     },
     "execution_count": 29,
     "metadata": {},
     "output_type": "execute_result"
    }
   ],
   "source": [
    "sam.disply()"
   ]
  },
  {
   "cell_type": "code",
   "execution_count": 30,
   "id": "c6d4db7f",
   "metadata": {},
   "outputs": [
    {
     "ename": "TypeError",
     "evalue": "unsupported operand type(s) for -=: 'str' and 'str'",
     "output_type": "error",
     "traceback": [
      "\u001b[1;31m---------------------------------------------------------------------------\u001b[0m",
      "\u001b[1;31mTypeError\u001b[0m                                 Traceback (most recent call last)",
      "\u001b[1;32m~\\AppData\\Local\\Temp\\ipykernel_12268\\2762449432.py\u001b[0m in \u001b[0;36m<module>\u001b[1;34m\u001b[0m\n\u001b[1;32m----> 1\u001b[1;33m \u001b[0msam\u001b[0m\u001b[1;33m.\u001b[0m\u001b[0mremoving_task\u001b[0m\u001b[1;33m(\u001b[0m\u001b[1;34m\"clean\"\u001b[0m\u001b[1;33m)\u001b[0m\u001b[1;33m\u001b[0m\u001b[1;33m\u001b[0m\u001b[0m\n\u001b[0m",
      "\u001b[1;32m~\\AppData\\Local\\Temp\\ipykernel_12268\\2738347920.py\u001b[0m in \u001b[0;36mremoving_task\u001b[1;34m(self, todo)\u001b[0m\n\u001b[0;32m      8\u001b[0m \u001b[1;33m\u001b[0m\u001b[0m\n\u001b[0;32m      9\u001b[0m     \u001b[1;32mdef\u001b[0m \u001b[0mremoving_task\u001b[0m\u001b[1;33m(\u001b[0m\u001b[0mself\u001b[0m\u001b[1;33m,\u001b[0m\u001b[0mtodo\u001b[0m\u001b[1;33m)\u001b[0m\u001b[1;33m:\u001b[0m\u001b[1;33m\u001b[0m\u001b[1;33m\u001b[0m\u001b[0m\n\u001b[1;32m---> 10\u001b[1;33m         \u001b[0mself\u001b[0m\u001b[1;33m.\u001b[0m\u001b[0mtask\u001b[0m \u001b[1;33m-=\u001b[0m \u001b[0mtodo\u001b[0m\u001b[1;33m\u001b[0m\u001b[1;33m\u001b[0m\u001b[0m\n\u001b[0m\u001b[0;32m     11\u001b[0m \u001b[1;33m\u001b[0m\u001b[0m\n\u001b[0;32m     12\u001b[0m     \u001b[1;32mdef\u001b[0m \u001b[0mdisply\u001b[0m\u001b[1;33m(\u001b[0m\u001b[0mself\u001b[0m\u001b[1;33m)\u001b[0m\u001b[1;33m:\u001b[0m\u001b[1;33m\u001b[0m\u001b[1;33m\u001b[0m\u001b[0m\n",
      "\u001b[1;31mTypeError\u001b[0m: unsupported operand type(s) for -=: 'str' and 'str'"
     ]
    }
   ],
   "source": [
    "sam.removing_task(\"clean\")"
   ]
  },
  {
   "cell_type": "code",
   "execution_count": null,
   "id": "b6839167",
   "metadata": {},
   "outputs": [],
   "source": []
  }
 ],
 "metadata": {
  "kernelspec": {
   "display_name": "Python 3 (ipykernel)",
   "language": "python",
   "name": "python3"
  },
  "language_info": {
   "codemirror_mode": {
    "name": "ipython",
    "version": 3
   },
   "file_extension": ".py",
   "mimetype": "text/x-python",
   "name": "python",
   "nbconvert_exporter": "python",
   "pygments_lexer": "ipython3",
   "version": "3.9.13"
  }
 },
 "nbformat": 4,
 "nbformat_minor": 5
}
