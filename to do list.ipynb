{
 "cells": [
  {
   "cell_type": "code",
   "execution_count": 2,
   "id": "87d62b07",
   "metadata": {},
   "outputs": [
    {
     "name": "stdout",
     "output_type": "stream",
     "text": [
      "to add,show and exit: add\n",
      "enter a todo list: study\n",
      "to add,show and exit: add\n",
      "enter a todo list: clean\n",
      "to add,show and exit: show\n",
      "todo entry:  study\n",
      "todo entry:  clean\n",
      "to add,show and exit: exit\n",
      "todo entry: study\n",
      "todo entry: clean\n"
     ]
    }
   ],
   "source": [
    "entries=[]\n",
    "while True:\n",
    "    user_entry = input(\"to add,show and exit: \")\n",
    "    user_entry = user_entry.strip()\n",
    "    if user_entry == \"add\":\n",
    "        entry = input(\"enter a todo list: \")\n",
    "        entries.append(entry)\n",
    "    elif user_entry == \"show\":\n",
    "        for items in entries:\n",
    "            print(\"todo entry: \",items)\n",
    "    if user_entry == \"exit\":\n",
    "        for items in entries:\n",
    "            print(\"todo entry:\",items)\n",
    "        break"
   ]
  },
  {
   "cell_type": "code",
   "execution_count": null,
   "id": "664217cb",
   "metadata": {},
   "outputs": [],
   "source": []
  }
 ],
 "metadata": {
  "kernelspec": {
   "display_name": "Python 3 (ipykernel)",
   "language": "python",
   "name": "python3"
  },
  "language_info": {
   "codemirror_mode": {
    "name": "ipython",
    "version": 3
   },
   "file_extension": ".py",
   "mimetype": "text/x-python",
   "name": "python",
   "nbconvert_exporter": "python",
   "pygments_lexer": "ipython3",
   "version": "3.9.13"
  }
 },
 "nbformat": 4,
 "nbformat_minor": 5
}
