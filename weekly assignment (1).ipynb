{
 "cells": [
  {
   "cell_type": "markdown",
   "id": "f8277bbe",
   "metadata": {},
   "source": [
    "# Write a Python program that generates a random integer between 1 and 100, and then prompts the user to guess the number. If the user's guess is higher than the actual number, the program should print \"Too high, try again.\" If the guess is lower than the actual number, the program should print \"Too low, try again.\" If the guess is correct, the program should print \"Congratulations, you guessed the number!\n"
   ]
  },
  {
   "cell_type": "code",
   "execution_count": null,
   "id": "46e5e0bd",
   "metadata": {},
   "outputs": [
    {
     "name": "stdout",
     "output_type": "stream",
     "text": [
      "enter your guess: 56\n",
      "Too high, try again\n"
     ]
    }
   ],
   "source": [
    "import random\n",
    "\n",
    "play_again = \"yes\"\n",
    "while play_again == \"yes\":\n",
    "    guesses = 0\n",
    "    number = random.randint(1,100)\n",
    "    while True:\n",
    "        guess= int(input(\"enter your guess: \"))\n",
    "        if guess > number:\n",
    "            print(\"Too high, try again\")\n",
    "            guesses += 1\n",
    "        elif guess < number:\n",
    "            print (\"Too low, try again\")\n",
    "            guesses += 1\n",
    "    \n",
    "        elif guess == number:\n",
    "            print (\"Congratulations, you guessed the number!\")\n",
    "            guesses += 1\n",
    "            print(f\"It took {guesses} guesses to guesses the generated number\")\n",
    "          \n",
    "        play_again = input(\"wanna play again: \")"
   ]
  },
  {
   "cell_type": "markdown",
   "id": "e842864f",
   "metadata": {},
   "source": [
    "# Write a Python function called mysum that takes in a list of numbers as its argument and returns the sum of all the numbers in the list. The function should work in the same way as the built-in sum function, but you are not allowed to use the sum function in your implementation.\n"
   ]
  },
  {
   "cell_type": "code",
   "execution_count": 6,
   "id": "0d82ee9d",
   "metadata": {},
   "outputs": [],
   "source": [
    "def mysum(lists):\n",
    "    total = 0\n",
    "    for i in lists:\n",
    "        total += i\n",
    "    return total"
   ]
  },
  {
   "cell_type": "code",
   "execution_count": 10,
   "id": "04eca5e8",
   "metadata": {},
   "outputs": [
    {
     "name": "stdout",
     "output_type": "stream",
     "text": [
      "10\n"
     ]
    }
   ],
   "source": [
    "a = mysum([1,2,3,4])\n",
    "print(a)"
   ]
  },
  {
   "cell_type": "markdown",
   "id": "44c4ba11",
   "metadata": {},
   "source": [
    "# Write a Python function called exercise_timing that asks the user how long it took them to complete a specific exercise routine. The function should then store the user's input in a list, and continue to prompt the user for more times until they enter \"done\". Once the user enters \"done\", the function should calculate and return the average time it took the user to complete the exercise routine"
   ]
  },
  {
   "cell_type": "code",
   "execution_count": 5,
   "id": "bc7da056",
   "metadata": {},
   "outputs": [
    {
     "name": "stdout",
     "output_type": "stream",
     "text": [
      "enter the time required to complete the task in minutes 23\n",
      "enter the time required to complete the task in minutes 13\n",
      "enter the time required to complete the task in minutes 4\n",
      "enter the time required to complete the task in minutes done\n",
      "13.333333333333334\n"
     ]
    }
   ],
   "source": [
    "def exercise_timing():\n",
    "    task_list=[]\n",
    "    while True:\n",
    "        time = input(\"enter the time required to complete the task in minutes \")\n",
    "        if time == \"done\":\n",
    "            break\n",
    "        else:\n",
    "            task_list.append(float(time))\n",
    "            \n",
    "    avgtime = sum(task_list)/len(task_list)\n",
    "    print(avgtime)\n",
    "\n",
    "exercise_timing()"
   ]
  },
  {
   "cell_type": "markdown",
   "id": "db5b3b48",
   "metadata": {},
   "source": [
    "# Write a Python function called hex_output that takes a hexadecimal number as its argument and returns the decimal equivalent of the number. The function should work for both lowercase and uppercase hexadecimal numbers, and should handle leading zeros in the input."
   ]
  },
  {
   "cell_type": "code",
   "execution_count": 7,
   "id": "74a4eeae",
   "metadata": {},
   "outputs": [],
   "source": [
    "def hex_output():\n",
    "    a = {1:1, 2:2, 3:3, 4:4, 5:5, 6:6, 7:7, 8:8, 9:9, (\"a\",\"A\"):(10,10), (\"b\",\"B\"):(11,11), (\"C\",\"c\"):(12,12), (\"d\",\"D\"):(13,13), (\"e\",\"E\"):(14,14), (\"f\",\"F\"):(15,15)}\n",
    "    h= input(\"enter the hexadecimal number: \")\n",
    "    d=int(h, base=16)\n",
    "    "
   ]
  },
  {
   "cell_type": "code",
   "execution_count": 10,
   "id": "00132674",
   "metadata": {},
   "outputs": [
    {
     "name": "stdout",
     "output_type": "stream",
     "text": [
      "enter the hexadecimal number: b5\n"
     ]
    },
    {
     "data": {
      "text/plain": [
       "181"
      ]
     },
     "execution_count": 10,
     "metadata": {},
     "output_type": "execute_result"
    }
   ],
   "source": [
    "hex_output()"
   ]
  },
  {
   "cell_type": "code",
   "execution_count": null,
   "id": "cb227f58",
   "metadata": {},
   "outputs": [],
   "source": []
  }
 ],
 "metadata": {
  "kernelspec": {
   "display_name": "Python 3 (ipykernel)",
   "language": "python",
   "name": "python3"
  },
  "language_info": {
   "codemirror_mode": {
    "name": "ipython",
    "version": 3
   },
   "file_extension": ".py",
   "mimetype": "text/x-python",
   "name": "python",
   "nbconvert_exporter": "python",
   "pygments_lexer": "ipython3",
   "version": "3.9.13"
  }
 },
 "nbformat": 4,
 "nbformat_minor": 5
}
